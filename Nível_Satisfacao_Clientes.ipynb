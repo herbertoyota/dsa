{
 "cells": [
  {
   "cell_type": "markdown",
   "metadata": {},
   "source": [
    "Definindo problema de negócio: prever nível de satisfação dos clientes do Santander"
   ]
  },
  {
   "cell_type": "markdown",
   "metadata": {},
   "source": [
    "Extrair os dados do problema"
   ]
  },
  {
   "cell_type": "code",
   "execution_count": 1,
   "metadata": {},
   "outputs": [
    {
     "data": {
      "text/plain": [
       "'0.23.1'"
      ]
     },
     "execution_count": 1,
     "metadata": {},
     "output_type": "execute_result"
    }
   ],
   "source": [
    "import sklearn as sl\n",
    "import warnings\n",
    "warnings.filterwarnings(\"ignore\")\n",
    "sl.__version__"
   ]
  },
  {
   "cell_type": "code",
   "execution_count": 2,
   "metadata": {},
   "outputs": [
    {
     "name": "stdout",
     "output_type": "stream",
     "text": [
      "(76020, 371)\n"
     ]
    }
   ],
   "source": [
    "from pandas import read_csv\n",
    "arquivo = 'data/train.csv/train.csv'\n",
    "dados= read_csv(arquivo)\n",
    "print(dados.shape)"
   ]
  },
  {
   "cell_type": "markdown",
   "metadata": {},
   "source": [
    "análise exploratória dos dados"
   ]
  },
  {
   "cell_type": "code",
   "execution_count": 3,
   "metadata": {},
   "outputs": [
    {
     "data": {
      "text/html": [
       "<div>\n",
       "<style scoped>\n",
       "    .dataframe tbody tr th:only-of-type {\n",
       "        vertical-align: middle;\n",
       "    }\n",
       "\n",
       "    .dataframe tbody tr th {\n",
       "        vertical-align: top;\n",
       "    }\n",
       "\n",
       "    .dataframe thead th {\n",
       "        text-align: right;\n",
       "    }\n",
       "</style>\n",
       "<table border=\"1\" class=\"dataframe\">\n",
       "  <thead>\n",
       "    <tr style=\"text-align: right;\">\n",
       "      <th></th>\n",
       "      <th>ID</th>\n",
       "      <th>var3</th>\n",
       "      <th>var15</th>\n",
       "      <th>imp_ent_var16_ult1</th>\n",
       "      <th>imp_op_var39_comer_ult1</th>\n",
       "      <th>imp_op_var39_comer_ult3</th>\n",
       "      <th>imp_op_var40_comer_ult1</th>\n",
       "      <th>imp_op_var40_comer_ult3</th>\n",
       "      <th>imp_op_var40_efect_ult1</th>\n",
       "      <th>imp_op_var40_efect_ult3</th>\n",
       "      <th>...</th>\n",
       "      <th>saldo_medio_var33_hace2</th>\n",
       "      <th>saldo_medio_var33_hace3</th>\n",
       "      <th>saldo_medio_var33_ult1</th>\n",
       "      <th>saldo_medio_var33_ult3</th>\n",
       "      <th>saldo_medio_var44_hace2</th>\n",
       "      <th>saldo_medio_var44_hace3</th>\n",
       "      <th>saldo_medio_var44_ult1</th>\n",
       "      <th>saldo_medio_var44_ult3</th>\n",
       "      <th>var38</th>\n",
       "      <th>TARGET</th>\n",
       "    </tr>\n",
       "  </thead>\n",
       "  <tbody>\n",
       "    <tr>\n",
       "      <th>ID</th>\n",
       "      <td>1.000000</td>\n",
       "      <td>-0.001025</td>\n",
       "      <td>-0.002135</td>\n",
       "      <td>-0.003111</td>\n",
       "      <td>-0.001436</td>\n",
       "      <td>-0.004131</td>\n",
       "      <td>-0.007277</td>\n",
       "      <td>-0.006302</td>\n",
       "      <td>-0.006700</td>\n",
       "      <td>-0.006698</td>\n",
       "      <td>...</td>\n",
       "      <td>0.001986</td>\n",
       "      <td>0.003771</td>\n",
       "      <td>-0.001521</td>\n",
       "      <td>-0.001216</td>\n",
       "      <td>-0.003772</td>\n",
       "      <td>-0.003674</td>\n",
       "      <td>-0.000856</td>\n",
       "      <td>0.000297</td>\n",
       "      <td>-0.005687</td>\n",
       "      <td>0.003148</td>\n",
       "    </tr>\n",
       "    <tr>\n",
       "      <th>var3</th>\n",
       "      <td>-0.001025</td>\n",
       "      <td>1.000000</td>\n",
       "      <td>-0.004452</td>\n",
       "      <td>0.001868</td>\n",
       "      <td>0.005989</td>\n",
       "      <td>0.006817</td>\n",
       "      <td>0.001518</td>\n",
       "      <td>0.001690</td>\n",
       "      <td>0.000530</td>\n",
       "      <td>0.000611</td>\n",
       "      <td>...</td>\n",
       "      <td>0.000716</td>\n",
       "      <td>0.000491</td>\n",
       "      <td>0.000638</td>\n",
       "      <td>0.000669</td>\n",
       "      <td>0.000617</td>\n",
       "      <td>0.000508</td>\n",
       "      <td>0.000738</td>\n",
       "      <td>0.000778</td>\n",
       "      <td>0.000071</td>\n",
       "      <td>0.004475</td>\n",
       "    </tr>\n",
       "    <tr>\n",
       "      <th>var15</th>\n",
       "      <td>-0.002135</td>\n",
       "      <td>-0.004452</td>\n",
       "      <td>1.000000</td>\n",
       "      <td>0.043722</td>\n",
       "      <td>0.094762</td>\n",
       "      <td>0.101177</td>\n",
       "      <td>0.042754</td>\n",
       "      <td>0.048512</td>\n",
       "      <td>0.008805</td>\n",
       "      <td>0.009678</td>\n",
       "      <td>...</td>\n",
       "      <td>0.029358</td>\n",
       "      <td>0.017264</td>\n",
       "      <td>0.028504</td>\n",
       "      <td>0.029176</td>\n",
       "      <td>0.029180</td>\n",
       "      <td>0.018884</td>\n",
       "      <td>0.032833</td>\n",
       "      <td>0.033597</td>\n",
       "      <td>0.006497</td>\n",
       "      <td>0.101322</td>\n",
       "    </tr>\n",
       "    <tr>\n",
       "      <th>imp_ent_var16_ult1</th>\n",
       "      <td>-0.003111</td>\n",
       "      <td>0.001868</td>\n",
       "      <td>0.043722</td>\n",
       "      <td>1.000000</td>\n",
       "      <td>0.041221</td>\n",
       "      <td>0.034879</td>\n",
       "      <td>0.009896</td>\n",
       "      <td>0.009377</td>\n",
       "      <td>0.000592</td>\n",
       "      <td>0.002510</td>\n",
       "      <td>...</td>\n",
       "      <td>-0.000864</td>\n",
       "      <td>-0.000632</td>\n",
       "      <td>-0.000548</td>\n",
       "      <td>-0.000540</td>\n",
       "      <td>0.002655</td>\n",
       "      <td>-0.000612</td>\n",
       "      <td>0.005055</td>\n",
       "      <td>0.006590</td>\n",
       "      <td>0.000007</td>\n",
       "      <td>-0.000017</td>\n",
       "    </tr>\n",
       "    <tr>\n",
       "      <th>imp_op_var39_comer_ult1</th>\n",
       "      <td>-0.001436</td>\n",
       "      <td>0.005989</td>\n",
       "      <td>0.094762</td>\n",
       "      <td>0.041221</td>\n",
       "      <td>1.000000</td>\n",
       "      <td>0.886476</td>\n",
       "      <td>0.342709</td>\n",
       "      <td>0.295295</td>\n",
       "      <td>0.032280</td>\n",
       "      <td>0.054809</td>\n",
       "      <td>...</td>\n",
       "      <td>0.016422</td>\n",
       "      <td>0.011719</td>\n",
       "      <td>0.012570</td>\n",
       "      <td>0.013703</td>\n",
       "      <td>0.009445</td>\n",
       "      <td>0.005532</td>\n",
       "      <td>0.011665</td>\n",
       "      <td>0.010802</td>\n",
       "      <td>0.012546</td>\n",
       "      <td>0.010353</td>\n",
       "    </tr>\n",
       "    <tr>\n",
       "      <th>...</th>\n",
       "      <td>...</td>\n",
       "      <td>...</td>\n",
       "      <td>...</td>\n",
       "      <td>...</td>\n",
       "      <td>...</td>\n",
       "      <td>...</td>\n",
       "      <td>...</td>\n",
       "      <td>...</td>\n",
       "      <td>...</td>\n",
       "      <td>...</td>\n",
       "      <td>...</td>\n",
       "      <td>...</td>\n",
       "      <td>...</td>\n",
       "      <td>...</td>\n",
       "      <td>...</td>\n",
       "      <td>...</td>\n",
       "      <td>...</td>\n",
       "      <td>...</td>\n",
       "      <td>...</td>\n",
       "      <td>...</td>\n",
       "      <td>...</td>\n",
       "    </tr>\n",
       "    <tr>\n",
       "      <th>saldo_medio_var44_hace3</th>\n",
       "      <td>-0.003674</td>\n",
       "      <td>0.000508</td>\n",
       "      <td>0.018884</td>\n",
       "      <td>-0.000612</td>\n",
       "      <td>0.005532</td>\n",
       "      <td>0.006359</td>\n",
       "      <td>-0.000480</td>\n",
       "      <td>-0.000529</td>\n",
       "      <td>-0.000170</td>\n",
       "      <td>-0.000195</td>\n",
       "      <td>...</td>\n",
       "      <td>-0.000219</td>\n",
       "      <td>-0.000151</td>\n",
       "      <td>-0.000196</td>\n",
       "      <td>-0.000205</td>\n",
       "      <td>0.332172</td>\n",
       "      <td>1.000000</td>\n",
       "      <td>0.229158</td>\n",
       "      <td>0.213191</td>\n",
       "      <td>0.003646</td>\n",
       "      <td>-0.002553</td>\n",
       "    </tr>\n",
       "    <tr>\n",
       "      <th>saldo_medio_var44_ult1</th>\n",
       "      <td>-0.000856</td>\n",
       "      <td>0.000738</td>\n",
       "      <td>0.032833</td>\n",
       "      <td>0.005055</td>\n",
       "      <td>0.011665</td>\n",
       "      <td>0.010660</td>\n",
       "      <td>-0.000254</td>\n",
       "      <td>-0.000510</td>\n",
       "      <td>-0.000254</td>\n",
       "      <td>-0.000292</td>\n",
       "      <td>...</td>\n",
       "      <td>0.000819</td>\n",
       "      <td>-0.000225</td>\n",
       "      <td>0.002493</td>\n",
       "      <td>0.002205</td>\n",
       "      <td>0.818300</td>\n",
       "      <td>0.229158</td>\n",
       "      <td>1.000000</td>\n",
       "      <td>0.968167</td>\n",
       "      <td>0.003258</td>\n",
       "      <td>-0.003104</td>\n",
       "    </tr>\n",
       "    <tr>\n",
       "      <th>saldo_medio_var44_ult3</th>\n",
       "      <td>0.000297</td>\n",
       "      <td>0.000778</td>\n",
       "      <td>0.033597</td>\n",
       "      <td>0.006590</td>\n",
       "      <td>0.010802</td>\n",
       "      <td>0.009822</td>\n",
       "      <td>-0.000372</td>\n",
       "      <td>-0.000601</td>\n",
       "      <td>-0.000268</td>\n",
       "      <td>-0.000308</td>\n",
       "      <td>...</td>\n",
       "      <td>0.000977</td>\n",
       "      <td>-0.000238</td>\n",
       "      <td>0.002905</td>\n",
       "      <td>0.002574</td>\n",
       "      <td>0.710593</td>\n",
       "      <td>0.213191</td>\n",
       "      <td>0.968167</td>\n",
       "      <td>1.000000</td>\n",
       "      <td>0.003037</td>\n",
       "      <td>-0.003015</td>\n",
       "    </tr>\n",
       "    <tr>\n",
       "      <th>var38</th>\n",
       "      <td>-0.005687</td>\n",
       "      <td>0.000071</td>\n",
       "      <td>0.006497</td>\n",
       "      <td>0.000007</td>\n",
       "      <td>0.012546</td>\n",
       "      <td>0.013271</td>\n",
       "      <td>0.016628</td>\n",
       "      <td>0.015584</td>\n",
       "      <td>-0.000315</td>\n",
       "      <td>0.000682</td>\n",
       "      <td>...</td>\n",
       "      <td>0.004448</td>\n",
       "      <td>0.001605</td>\n",
       "      <td>0.004255</td>\n",
       "      <td>0.004290</td>\n",
       "      <td>0.002889</td>\n",
       "      <td>0.003646</td>\n",
       "      <td>0.003258</td>\n",
       "      <td>0.003037</td>\n",
       "      <td>1.000000</td>\n",
       "      <td>-0.019510</td>\n",
       "    </tr>\n",
       "    <tr>\n",
       "      <th>TARGET</th>\n",
       "      <td>0.003148</td>\n",
       "      <td>0.004475</td>\n",
       "      <td>0.101322</td>\n",
       "      <td>-0.000017</td>\n",
       "      <td>0.010353</td>\n",
       "      <td>0.003517</td>\n",
       "      <td>0.003119</td>\n",
       "      <td>-0.000358</td>\n",
       "      <td>0.019221</td>\n",
       "      <td>0.019965</td>\n",
       "      <td>...</td>\n",
       "      <td>-0.003533</td>\n",
       "      <td>-0.002431</td>\n",
       "      <td>-0.003166</td>\n",
       "      <td>-0.003311</td>\n",
       "      <td>-0.003177</td>\n",
       "      <td>-0.002553</td>\n",
       "      <td>-0.003104</td>\n",
       "      <td>-0.003015</td>\n",
       "      <td>-0.019510</td>\n",
       "      <td>1.000000</td>\n",
       "    </tr>\n",
       "  </tbody>\n",
       "</table>\n",
       "<p>371 rows × 371 columns</p>\n",
       "</div>"
      ],
      "text/plain": [
       "                               ID      var3     var15  imp_ent_var16_ult1  \\\n",
       "ID                       1.000000 -0.001025 -0.002135           -0.003111   \n",
       "var3                    -0.001025  1.000000 -0.004452            0.001868   \n",
       "var15                   -0.002135 -0.004452  1.000000            0.043722   \n",
       "imp_ent_var16_ult1      -0.003111  0.001868  0.043722            1.000000   \n",
       "imp_op_var39_comer_ult1 -0.001436  0.005989  0.094762            0.041221   \n",
       "...                           ...       ...       ...                 ...   \n",
       "saldo_medio_var44_hace3 -0.003674  0.000508  0.018884           -0.000612   \n",
       "saldo_medio_var44_ult1  -0.000856  0.000738  0.032833            0.005055   \n",
       "saldo_medio_var44_ult3   0.000297  0.000778  0.033597            0.006590   \n",
       "var38                   -0.005687  0.000071  0.006497            0.000007   \n",
       "TARGET                   0.003148  0.004475  0.101322           -0.000017   \n",
       "\n",
       "                         imp_op_var39_comer_ult1  imp_op_var39_comer_ult3  \\\n",
       "ID                                     -0.001436                -0.004131   \n",
       "var3                                    0.005989                 0.006817   \n",
       "var15                                   0.094762                 0.101177   \n",
       "imp_ent_var16_ult1                      0.041221                 0.034879   \n",
       "imp_op_var39_comer_ult1                 1.000000                 0.886476   \n",
       "...                                          ...                      ...   \n",
       "saldo_medio_var44_hace3                 0.005532                 0.006359   \n",
       "saldo_medio_var44_ult1                  0.011665                 0.010660   \n",
       "saldo_medio_var44_ult3                  0.010802                 0.009822   \n",
       "var38                                   0.012546                 0.013271   \n",
       "TARGET                                  0.010353                 0.003517   \n",
       "\n",
       "                         imp_op_var40_comer_ult1  imp_op_var40_comer_ult3  \\\n",
       "ID                                     -0.007277                -0.006302   \n",
       "var3                                    0.001518                 0.001690   \n",
       "var15                                   0.042754                 0.048512   \n",
       "imp_ent_var16_ult1                      0.009896                 0.009377   \n",
       "imp_op_var39_comer_ult1                 0.342709                 0.295295   \n",
       "...                                          ...                      ...   \n",
       "saldo_medio_var44_hace3                -0.000480                -0.000529   \n",
       "saldo_medio_var44_ult1                 -0.000254                -0.000510   \n",
       "saldo_medio_var44_ult3                 -0.000372                -0.000601   \n",
       "var38                                   0.016628                 0.015584   \n",
       "TARGET                                  0.003119                -0.000358   \n",
       "\n",
       "                         imp_op_var40_efect_ult1  imp_op_var40_efect_ult3  \\\n",
       "ID                                     -0.006700                -0.006698   \n",
       "var3                                    0.000530                 0.000611   \n",
       "var15                                   0.008805                 0.009678   \n",
       "imp_ent_var16_ult1                      0.000592                 0.002510   \n",
       "imp_op_var39_comer_ult1                 0.032280                 0.054809   \n",
       "...                                          ...                      ...   \n",
       "saldo_medio_var44_hace3                -0.000170                -0.000195   \n",
       "saldo_medio_var44_ult1                 -0.000254                -0.000292   \n",
       "saldo_medio_var44_ult3                 -0.000268                -0.000308   \n",
       "var38                                  -0.000315                 0.000682   \n",
       "TARGET                                  0.019221                 0.019965   \n",
       "\n",
       "                         ...  saldo_medio_var33_hace2  \\\n",
       "ID                       ...                 0.001986   \n",
       "var3                     ...                 0.000716   \n",
       "var15                    ...                 0.029358   \n",
       "imp_ent_var16_ult1       ...                -0.000864   \n",
       "imp_op_var39_comer_ult1  ...                 0.016422   \n",
       "...                      ...                      ...   \n",
       "saldo_medio_var44_hace3  ...                -0.000219   \n",
       "saldo_medio_var44_ult1   ...                 0.000819   \n",
       "saldo_medio_var44_ult3   ...                 0.000977   \n",
       "var38                    ...                 0.004448   \n",
       "TARGET                   ...                -0.003533   \n",
       "\n",
       "                         saldo_medio_var33_hace3  saldo_medio_var33_ult1  \\\n",
       "ID                                      0.003771               -0.001521   \n",
       "var3                                    0.000491                0.000638   \n",
       "var15                                   0.017264                0.028504   \n",
       "imp_ent_var16_ult1                     -0.000632               -0.000548   \n",
       "imp_op_var39_comer_ult1                 0.011719                0.012570   \n",
       "...                                          ...                     ...   \n",
       "saldo_medio_var44_hace3                -0.000151               -0.000196   \n",
       "saldo_medio_var44_ult1                 -0.000225                0.002493   \n",
       "saldo_medio_var44_ult3                 -0.000238                0.002905   \n",
       "var38                                   0.001605                0.004255   \n",
       "TARGET                                 -0.002431               -0.003166   \n",
       "\n",
       "                         saldo_medio_var33_ult3  saldo_medio_var44_hace2  \\\n",
       "ID                                    -0.001216                -0.003772   \n",
       "var3                                   0.000669                 0.000617   \n",
       "var15                                  0.029176                 0.029180   \n",
       "imp_ent_var16_ult1                    -0.000540                 0.002655   \n",
       "imp_op_var39_comer_ult1                0.013703                 0.009445   \n",
       "...                                         ...                      ...   \n",
       "saldo_medio_var44_hace3               -0.000205                 0.332172   \n",
       "saldo_medio_var44_ult1                 0.002205                 0.818300   \n",
       "saldo_medio_var44_ult3                 0.002574                 0.710593   \n",
       "var38                                  0.004290                 0.002889   \n",
       "TARGET                                -0.003311                -0.003177   \n",
       "\n",
       "                         saldo_medio_var44_hace3  saldo_medio_var44_ult1  \\\n",
       "ID                                     -0.003674               -0.000856   \n",
       "var3                                    0.000508                0.000738   \n",
       "var15                                   0.018884                0.032833   \n",
       "imp_ent_var16_ult1                     -0.000612                0.005055   \n",
       "imp_op_var39_comer_ult1                 0.005532                0.011665   \n",
       "...                                          ...                     ...   \n",
       "saldo_medio_var44_hace3                 1.000000                0.229158   \n",
       "saldo_medio_var44_ult1                  0.229158                1.000000   \n",
       "saldo_medio_var44_ult3                  0.213191                0.968167   \n",
       "var38                                   0.003646                0.003258   \n",
       "TARGET                                 -0.002553               -0.003104   \n",
       "\n",
       "                         saldo_medio_var44_ult3     var38    TARGET  \n",
       "ID                                     0.000297 -0.005687  0.003148  \n",
       "var3                                   0.000778  0.000071  0.004475  \n",
       "var15                                  0.033597  0.006497  0.101322  \n",
       "imp_ent_var16_ult1                     0.006590  0.000007 -0.000017  \n",
       "imp_op_var39_comer_ult1                0.010802  0.012546  0.010353  \n",
       "...                                         ...       ...       ...  \n",
       "saldo_medio_var44_hace3                0.213191  0.003646 -0.002553  \n",
       "saldo_medio_var44_ult1                 0.968167  0.003258 -0.003104  \n",
       "saldo_medio_var44_ult3                 1.000000  0.003037 -0.003015  \n",
       "var38                                  0.003037  1.000000 -0.019510  \n",
       "TARGET                                -0.003015 -0.019510  1.000000  \n",
       "\n",
       "[371 rows x 371 columns]"
      ]
     },
     "execution_count": 3,
     "metadata": {},
     "output_type": "execute_result"
    }
   ],
   "source": [
    "dados.corr(method='pearson')"
   ]
  },
  {
   "cell_type": "code",
   "execution_count": 4,
   "metadata": {},
   "outputs": [
    {
     "data": {
      "text/html": [
       "<div>\n",
       "<style scoped>\n",
       "    .dataframe tbody tr th:only-of-type {\n",
       "        vertical-align: middle;\n",
       "    }\n",
       "\n",
       "    .dataframe tbody tr th {\n",
       "        vertical-align: top;\n",
       "    }\n",
       "\n",
       "    .dataframe thead th {\n",
       "        text-align: right;\n",
       "    }\n",
       "</style>\n",
       "<table border=\"1\" class=\"dataframe\">\n",
       "  <thead>\n",
       "    <tr style=\"text-align: right;\">\n",
       "      <th></th>\n",
       "      <th>ID</th>\n",
       "      <th>var3</th>\n",
       "      <th>var15</th>\n",
       "      <th>imp_ent_var16_ult1</th>\n",
       "      <th>imp_op_var39_comer_ult1</th>\n",
       "      <th>imp_op_var39_comer_ult3</th>\n",
       "      <th>imp_op_var40_comer_ult1</th>\n",
       "      <th>imp_op_var40_comer_ult3</th>\n",
       "      <th>imp_op_var40_efect_ult1</th>\n",
       "      <th>imp_op_var40_efect_ult3</th>\n",
       "      <th>...</th>\n",
       "      <th>saldo_medio_var33_hace2</th>\n",
       "      <th>saldo_medio_var33_hace3</th>\n",
       "      <th>saldo_medio_var33_ult1</th>\n",
       "      <th>saldo_medio_var33_ult3</th>\n",
       "      <th>saldo_medio_var44_hace2</th>\n",
       "      <th>saldo_medio_var44_hace3</th>\n",
       "      <th>saldo_medio_var44_ult1</th>\n",
       "      <th>saldo_medio_var44_ult3</th>\n",
       "      <th>var38</th>\n",
       "      <th>TARGET</th>\n",
       "    </tr>\n",
       "  </thead>\n",
       "  <tbody>\n",
       "    <tr>\n",
       "      <th>0</th>\n",
       "      <td>1</td>\n",
       "      <td>2</td>\n",
       "      <td>23</td>\n",
       "      <td>0.0</td>\n",
       "      <td>0.0</td>\n",
       "      <td>0.0</td>\n",
       "      <td>0.0</td>\n",
       "      <td>0.0</td>\n",
       "      <td>0.0</td>\n",
       "      <td>0.0</td>\n",
       "      <td>...</td>\n",
       "      <td>0.0</td>\n",
       "      <td>0.0</td>\n",
       "      <td>0.0</td>\n",
       "      <td>0.0</td>\n",
       "      <td>0.0</td>\n",
       "      <td>0.0</td>\n",
       "      <td>0.0</td>\n",
       "      <td>0.0</td>\n",
       "      <td>39205.170000</td>\n",
       "      <td>0</td>\n",
       "    </tr>\n",
       "    <tr>\n",
       "      <th>1</th>\n",
       "      <td>3</td>\n",
       "      <td>2</td>\n",
       "      <td>34</td>\n",
       "      <td>0.0</td>\n",
       "      <td>0.0</td>\n",
       "      <td>0.0</td>\n",
       "      <td>0.0</td>\n",
       "      <td>0.0</td>\n",
       "      <td>0.0</td>\n",
       "      <td>0.0</td>\n",
       "      <td>...</td>\n",
       "      <td>0.0</td>\n",
       "      <td>0.0</td>\n",
       "      <td>0.0</td>\n",
       "      <td>0.0</td>\n",
       "      <td>0.0</td>\n",
       "      <td>0.0</td>\n",
       "      <td>0.0</td>\n",
       "      <td>0.0</td>\n",
       "      <td>49278.030000</td>\n",
       "      <td>0</td>\n",
       "    </tr>\n",
       "    <tr>\n",
       "      <th>2</th>\n",
       "      <td>4</td>\n",
       "      <td>2</td>\n",
       "      <td>23</td>\n",
       "      <td>0.0</td>\n",
       "      <td>0.0</td>\n",
       "      <td>0.0</td>\n",
       "      <td>0.0</td>\n",
       "      <td>0.0</td>\n",
       "      <td>0.0</td>\n",
       "      <td>0.0</td>\n",
       "      <td>...</td>\n",
       "      <td>0.0</td>\n",
       "      <td>0.0</td>\n",
       "      <td>0.0</td>\n",
       "      <td>0.0</td>\n",
       "      <td>0.0</td>\n",
       "      <td>0.0</td>\n",
       "      <td>0.0</td>\n",
       "      <td>0.0</td>\n",
       "      <td>67333.770000</td>\n",
       "      <td>0</td>\n",
       "    </tr>\n",
       "    <tr>\n",
       "      <th>3</th>\n",
       "      <td>8</td>\n",
       "      <td>2</td>\n",
       "      <td>37</td>\n",
       "      <td>0.0</td>\n",
       "      <td>195.0</td>\n",
       "      <td>195.0</td>\n",
       "      <td>0.0</td>\n",
       "      <td>0.0</td>\n",
       "      <td>0.0</td>\n",
       "      <td>0.0</td>\n",
       "      <td>...</td>\n",
       "      <td>0.0</td>\n",
       "      <td>0.0</td>\n",
       "      <td>0.0</td>\n",
       "      <td>0.0</td>\n",
       "      <td>0.0</td>\n",
       "      <td>0.0</td>\n",
       "      <td>0.0</td>\n",
       "      <td>0.0</td>\n",
       "      <td>64007.970000</td>\n",
       "      <td>0</td>\n",
       "    </tr>\n",
       "    <tr>\n",
       "      <th>4</th>\n",
       "      <td>10</td>\n",
       "      <td>2</td>\n",
       "      <td>39</td>\n",
       "      <td>0.0</td>\n",
       "      <td>0.0</td>\n",
       "      <td>0.0</td>\n",
       "      <td>0.0</td>\n",
       "      <td>0.0</td>\n",
       "      <td>0.0</td>\n",
       "      <td>0.0</td>\n",
       "      <td>...</td>\n",
       "      <td>0.0</td>\n",
       "      <td>0.0</td>\n",
       "      <td>0.0</td>\n",
       "      <td>0.0</td>\n",
       "      <td>0.0</td>\n",
       "      <td>0.0</td>\n",
       "      <td>0.0</td>\n",
       "      <td>0.0</td>\n",
       "      <td>117310.979016</td>\n",
       "      <td>0</td>\n",
       "    </tr>\n",
       "  </tbody>\n",
       "</table>\n",
       "<p>5 rows × 371 columns</p>\n",
       "</div>"
      ],
      "text/plain": [
       "   ID  var3  var15  imp_ent_var16_ult1  imp_op_var39_comer_ult1  \\\n",
       "0   1     2     23                 0.0                      0.0   \n",
       "1   3     2     34                 0.0                      0.0   \n",
       "2   4     2     23                 0.0                      0.0   \n",
       "3   8     2     37                 0.0                    195.0   \n",
       "4  10     2     39                 0.0                      0.0   \n",
       "\n",
       "   imp_op_var39_comer_ult3  imp_op_var40_comer_ult1  imp_op_var40_comer_ult3  \\\n",
       "0                      0.0                      0.0                      0.0   \n",
       "1                      0.0                      0.0                      0.0   \n",
       "2                      0.0                      0.0                      0.0   \n",
       "3                    195.0                      0.0                      0.0   \n",
       "4                      0.0                      0.0                      0.0   \n",
       "\n",
       "   imp_op_var40_efect_ult1  imp_op_var40_efect_ult3  ...  \\\n",
       "0                      0.0                      0.0  ...   \n",
       "1                      0.0                      0.0  ...   \n",
       "2                      0.0                      0.0  ...   \n",
       "3                      0.0                      0.0  ...   \n",
       "4                      0.0                      0.0  ...   \n",
       "\n",
       "   saldo_medio_var33_hace2  saldo_medio_var33_hace3  saldo_medio_var33_ult1  \\\n",
       "0                      0.0                      0.0                     0.0   \n",
       "1                      0.0                      0.0                     0.0   \n",
       "2                      0.0                      0.0                     0.0   \n",
       "3                      0.0                      0.0                     0.0   \n",
       "4                      0.0                      0.0                     0.0   \n",
       "\n",
       "   saldo_medio_var33_ult3  saldo_medio_var44_hace2  saldo_medio_var44_hace3  \\\n",
       "0                     0.0                      0.0                      0.0   \n",
       "1                     0.0                      0.0                      0.0   \n",
       "2                     0.0                      0.0                      0.0   \n",
       "3                     0.0                      0.0                      0.0   \n",
       "4                     0.0                      0.0                      0.0   \n",
       "\n",
       "   saldo_medio_var44_ult1  saldo_medio_var44_ult3          var38  TARGET  \n",
       "0                     0.0                     0.0   39205.170000       0  \n",
       "1                     0.0                     0.0   49278.030000       0  \n",
       "2                     0.0                     0.0   67333.770000       0  \n",
       "3                     0.0                     0.0   64007.970000       0  \n",
       "4                     0.0                     0.0  117310.979016       0  \n",
       "\n",
       "[5 rows x 371 columns]"
      ]
     },
     "execution_count": 4,
     "metadata": {},
     "output_type": "execute_result"
    }
   ],
   "source": [
    "dados.head(5)"
   ]
  },
  {
   "cell_type": "code",
   "execution_count": 5,
   "metadata": {},
   "outputs": [
    {
     "data": {
      "text/plain": [
       "TARGET\n",
       "0    73012\n",
       "1     3008\n",
       "dtype: int64"
      ]
     },
     "execution_count": 5,
     "metadata": {},
     "output_type": "execute_result"
    }
   ],
   "source": [
    "#qunatidade TARGET\n",
    "dados.groupby('TARGET').size()"
   ]
  },
  {
   "cell_type": "code",
   "execution_count": 6,
   "metadata": {},
   "outputs": [],
   "source": [
    "import matplotlib.pyplot as plt\n",
    "%matplotlib inline"
   ]
  },
  {
   "cell_type": "code",
   "execution_count": 7,
   "metadata": {},
   "outputs": [],
   "source": [
    "import seaborn as sns"
   ]
  },
  {
   "cell_type": "code",
   "execution_count": 8,
   "metadata": {},
   "outputs": [
    {
     "data": {
      "text/plain": [
       "76020"
      ]
     },
     "execution_count": 8,
     "metadata": {},
     "output_type": "execute_result"
    }
   ],
   "source": [
    "dados.shape[0]\n"
   ]
  },
  {
   "cell_type": "code",
   "execution_count": 9,
   "metadata": {},
   "outputs": [],
   "source": [
    "import pandas as pd"
   ]
  },
  {
   "cell_type": "code",
   "execution_count": 10,
   "metadata": {},
   "outputs": [],
   "source": [
    "y= dados.TARGET"
   ]
  },
  {
   "cell_type": "code",
   "execution_count": 11,
   "metadata": {},
   "outputs": [
    {
     "data": {
      "text/plain": [
       "0    0.960431\n",
       "1    0.039569\n",
       "Name: TARGET, dtype: float64"
      ]
     },
     "execution_count": 11,
     "metadata": {},
     "output_type": "execute_result"
    }
   ],
   "source": [
    "#porcentagem envolvendo a TARGET\n",
    "y.value_counts()/ float(y.size)"
   ]
  },
  {
   "cell_type": "code",
   "execution_count": 12,
   "metadata": {},
   "outputs": [
    {
     "data": {
      "text/plain": [
       "76020"
      ]
     },
     "execution_count": 12,
     "metadata": {},
     "output_type": "execute_result"
    }
   ],
   "source": [
    "y.size"
   ]
  },
  {
   "cell_type": "code",
   "execution_count": 13,
   "metadata": {},
   "outputs": [
    {
     "data": {
      "text/plain": [
       "ID                          -0.001998\n",
       "var3                       -25.541574\n",
       "var15                        1.578367\n",
       "imp_ent_var16_ult1          67.267512\n",
       "imp_op_var39_comer_ult1      9.454298\n",
       "                              ...    \n",
       "saldo_medio_var44_hace3    120.067707\n",
       "saldo_medio_var44_ult1     104.133358\n",
       "saldo_medio_var44_ult3      93.956775\n",
       "var38                       51.274532\n",
       "TARGET                       4.723842\n",
       "Length: 371, dtype: float64"
      ]
     },
     "execution_count": 13,
     "metadata": {},
     "output_type": "execute_result"
    }
   ],
   "source": [
    "dados.skew()"
   ]
  },
  {
   "cell_type": "markdown",
   "metadata": {},
   "source": [
    "var3 - nacionalidade"
   ]
  },
  {
   "cell_type": "code",
   "execution_count": 14,
   "metadata": {},
   "outputs": [
    {
     "data": {
      "text/plain": [
       " 2         74165\n",
       " 8           138\n",
       "-999999      116\n",
       " 9           110\n",
       " 3           108\n",
       "           ...  \n",
       " 177           1\n",
       " 87            1\n",
       " 151           1\n",
       " 215           1\n",
       " 191           1\n",
       "Name: var3, Length: 208, dtype: int64"
      ]
     },
     "execution_count": 14,
     "metadata": {},
     "output_type": "execute_result"
    }
   ],
   "source": [
    "dados.var3.value_counts()"
   ]
  },
  {
   "cell_type": "code",
   "execution_count": 15,
   "metadata": {},
   "outputs": [
    {
     "data": {
      "text/plain": [
       "1    38147\n",
       "0    19528\n",
       "2    12692\n",
       "3     4377\n",
       "4     1031\n",
       "5      203\n",
       "6       36\n",
       "7        6\n",
       "Name: num_var4, dtype: int64"
      ]
     },
     "execution_count": 15,
     "metadata": {},
     "output_type": "execute_result"
    }
   ],
   "source": [
    "#var4- produtos bancarios\n",
    "\n",
    "dados.num_var4.value_counts()"
   ]
  },
  {
   "cell_type": "code",
   "execution_count": 16,
   "metadata": {},
   "outputs": [
    {
     "data": {
      "text/plain": [
       "count    7.602000e+04\n",
       "mean     1.172358e+05\n",
       "std      1.826646e+05\n",
       "min      5.163750e+03\n",
       "25%      6.787061e+04\n",
       "50%      1.064092e+05\n",
       "75%      1.187563e+05\n",
       "max      2.203474e+07\n",
       "Name: var38, dtype: float64"
      ]
     },
     "execution_count": 16,
     "metadata": {},
     "output_type": "execute_result"
    }
   ],
   "source": [
    "dados.var38.describe()"
   ]
  },
  {
   "cell_type": "code",
   "execution_count": 17,
   "metadata": {},
   "outputs": [
    {
     "data": {
      "text/plain": [
       "23     20170\n",
       "24      6232\n",
       "25      4217\n",
       "26      3270\n",
       "27      2861\n",
       "       ...  \n",
       "97         3\n",
       "104        2\n",
       "98         1\n",
       "105        1\n",
       "101        1\n",
       "Name: var15, Length: 100, dtype: int64"
      ]
     },
     "execution_count": 17,
     "metadata": {},
     "output_type": "execute_result"
    }
   ],
   "source": [
    "#var15- idade\n",
    "dados.var15.value_counts()"
   ]
  },
  {
   "cell_type": "code",
   "execution_count": 18,
   "metadata": {},
   "outputs": [
    {
     "data": {
      "text/plain": [
       "count    7.602000e+04\n",
       "mean     1.367967e+04\n",
       "std      6.301408e+04\n",
       "min     -4.942260e+03\n",
       "25%      0.000000e+00\n",
       "50%      3.000000e+00\n",
       "75%      2.359950e+02\n",
       "max      3.458077e+06\n",
       "Name: saldo_var30, dtype: float64"
      ]
     },
     "execution_count": 18,
     "metadata": {},
     "output_type": "execute_result"
    }
   ],
   "source": [
    "dados.saldo_var30.describe()"
   ]
  },
  {
   "cell_type": "code",
   "execution_count": 19,
   "metadata": {},
   "outputs": [],
   "source": [
    "import matplotlib.pyplot as plt\n",
    "%matplotlib inline"
   ]
  },
  {
   "cell_type": "code",
   "execution_count": 20,
   "metadata": {},
   "outputs": [
    {
     "data": {
      "image/png": "[encoded data removed]",
      "text/plain": [
       "<Figure size 432x288 with 1 Axes>"
      ]
     },
     "metadata": {
      "needs_background": "light"
     },
     "output_type": "display_data"
    }
   ],
   "source": [
    "num_bins = 5;\n",
    "plt.hist(dados.var15[dados.TARGET==1], num_bins, facecolor = 'blue', alpha = 0.5)\n",
    "plt.xlabel('idade')\n",
    "plt.ylabel('satisfeito')\n",
    "plt.show()"
   ]
  },
  {
   "cell_type": "code",
   "execution_count": 21,
   "metadata": {},
   "outputs": [
    {
     "data": {
      "image/png": "[encoded data removed]",
      "text/plain": [
       "<Figure size 432x288 with 1 Axes>"
      ]
     },
     "metadata": {
      "needs_background": "light"
     },
     "output_type": "display_data"
    }
   ],
   "source": [
    "num_bins = 5;\n",
    "plt.hist(dados.var15[dados.TARGET==0], num_bins, facecolor = 'blue', alpha = 0.5)\n",
    "plt.xlabel('idade')\n",
    "plt.ylabel('insatisfeito')\n",
    "plt.show()"
   ]
  },
  {
   "cell_type": "code",
   "execution_count": 22,
   "metadata": {},
   "outputs": [
    {
     "data": {
      "image/png": "[encoded data removed]",
      "text/plain": [
       "<Figure size 432x288 with 1 Axes>"
      ]
     },
     "metadata": {
      "needs_background": "light"
     },
     "output_type": "display_data"
    }
   ],
   "source": [
    "import numpy as np\n",
    "import matplotlib.pyplot as plt\n",
    "\n",
    "\n",
    "\n",
    "width = 0.35       # the width of the bars: can also be len(x) sequence\n",
    "\n",
    "fig, ax = plt.subplots()\n",
    "\n",
    "ax.bar(dados.var15,dados.TARGET==0,width,label='insatisfeito')\n",
    "ax.bar(dados.var15,dados.TARGET==1,width,label='satisfeito')\n",
    "\n",
    "ax.set_ylabel('Scores')\n",
    "ax.set_title('Scores by group and gender')\n",
    "ax.legend()\n",
    "\n",
    "plt.show()"
   ]
  },
  {
   "cell_type": "code",
   "execution_count": 23,
   "metadata": {},
   "outputs": [
    {
     "name": "stdout",
     "output_type": "stream",
     "text": [
      "Requirement already satisfied: imblearn in c:\\users\\yuki_\\anaconda3\\lib\\site-packages (0.0)\n",
      "Requirement already satisfied: imbalanced-learn in c:\\users\\yuki_\\anaconda3\\lib\\site-packages (from imblearn) (0.7.0)\n",
      "Requirement already satisfied: scipy>=0.19.1 in c:\\users\\yuki_\\anaconda3\\lib\\site-packages (from imbalanced-learn->imblearn) (1.4.1)\n",
      "Requirement already satisfied: numpy>=1.13.3 in c:\\users\\yuki_\\anaconda3\\lib\\site-packages (from imbalanced-learn->imblearn) (1.18.1)\n",
      "Requirement already satisfied: scikit-learn>=0.23 in c:\\users\\yuki_\\anaconda3\\lib\\site-packages (from imbalanced-learn->imblearn) (0.23.1)\n",
      "Requirement already satisfied: joblib>=0.11 in c:\\users\\yuki_\\anaconda3\\lib\\site-packages (from imbalanced-learn->imblearn) (0.14.1)\n",
      "Requirement already satisfied: threadpoolctl>=2.0.0 in c:\\users\\yuki_\\anaconda3\\lib\\site-packages (from scikit-learn>=0.23->imbalanced-learn->imblearn) (2.1.0)\n"
     ]
    }
   ],
   "source": [
    "!pip install imblearn"
   ]
  },
  {
   "cell_type": "code",
   "execution_count": 24,
   "metadata": {},
   "outputs": [],
   "source": [
    "array = dados.values\n",
    "\n",
    "# Separando o array em componentes de input e output\n",
    "X = dados.iloc[:,1:-1]\n",
    "Y = dados.TARGET\n"
   ]
  },
  {
   "cell_type": "code",
   "execution_count": 25,
   "metadata": {},
   "outputs": [
    {
     "data": {
      "text/plain": [
       "0    0.960431\n",
       "1    0.039569\n",
       "Name: TARGET, dtype: float64"
      ]
     },
     "execution_count": 25,
     "metadata": {},
     "output_type": "execute_result"
    }
   ],
   "source": [
    "# Importando SMOTE\n",
    "from imblearn.over_sampling import SMOTE\n",
    "\n",
    "# Porcetagem dos valores da classe\n",
    "dados.TARGET.value_counts(normalize=True)"
   ]
  },
  {
   "cell_type": "code",
   "execution_count": 26,
   "metadata": {},
   "outputs": [
    {
     "data": {
      "text/plain": [
       "1    0.5\n",
       "0    0.5\n",
       "Name: TARGET, dtype: float64"
      ]
     },
     "execution_count": 26,
     "metadata": {},
     "output_type": "execute_result"
    }
   ],
   "source": [
    "# Balanceando\n",
    "x_resampled, y_resampled = SMOTE().fit_resample(X, Y)\n",
    "\n",
    "# Classe equilibrada - 50/50\n",
    "pd.value_counts(y_resampled, normalize=True)"
   ]
  },
  {
   "cell_type": "markdown",
   "metadata": {},
   "source": [
    "normalizando dados"
   ]
  },
  {
   "cell_type": "code",
   "execution_count": 27,
   "metadata": {},
   "outputs": [
    {
     "name": "stdout",
     "output_type": "stream",
     "text": [
      "dados originais: \n",
      "\n",
      " [[1.00000000e+00 2.00000000e+00 2.30000000e+01 ... 0.00000000e+00\n",
      "  3.92051700e+04 0.00000000e+00]\n",
      " [3.00000000e+00 2.00000000e+00 3.40000000e+01 ... 0.00000000e+00\n",
      "  4.92780300e+04 0.00000000e+00]\n",
      " [4.00000000e+00 2.00000000e+00 2.30000000e+01 ... 0.00000000e+00\n",
      "  6.73337700e+04 0.00000000e+00]\n",
      " ...\n",
      " [1.51835000e+05 2.00000000e+00 2.30000000e+01 ... 0.00000000e+00\n",
      "  7.40281500e+04 0.00000000e+00]\n",
      " [1.51836000e+05 2.00000000e+00 2.50000000e+01 ... 0.00000000e+00\n",
      "  8.42781600e+04 0.00000000e+00]\n",
      " [1.51838000e+05 2.00000000e+00 4.60000000e+01 ... 0.00000000e+00\n",
      "  1.17310979e+05 0.00000000e+00]]\n",
      "dados normalizados: \n",
      "\n",
      " [[0.99976406 0.18       0.         ... 0.         0.         0.00154526]\n",
      " [0.99976406 0.29       0.         ... 0.         0.         0.0020025 ]\n",
      " [0.99976406 0.18       0.         ... 0.         0.         0.00282212]\n",
      " [0.99976406 0.32       0.         ... 0.         0.         0.00267115]\n",
      " [0.99976406 0.34       0.         ... 0.         0.         0.00509076]]\n"
     ]
    }
   ],
   "source": [
    "# Transformando os dados para a mesma escala (entre 0 e 1)\n",
    "\n",
    "# Import dos módulos\n",
    "from pandas import read_csv\n",
    "from sklearn.preprocessing import MinMaxScaler\n",
    "\n",
    "#gerando nova escala\n",
    "X_scaled = MinMaxScaler(feature_range = (0, 1)).fit_transform(x_resampled)\n",
    "\n",
    "print(\"dados originais: \\n\\n\", dados.values)\n",
    "print(\"dados normalizados: \\n\\n\", X_scaled[0:5,:])"
   ]
  },
  {
   "cell_type": "markdown",
   "metadata": {},
   "source": [
    "padronização dos dados\n"
   ]
  },
  {
   "cell_type": "code",
   "execution_count": 28,
   "metadata": {},
   "outputs": [
    {
     "name": "stdout",
     "output_type": "stream",
     "text": [
      "dados originais: \n",
      "\n",
      " [[1.00000000e+00 2.00000000e+00 2.30000000e+01 ... 0.00000000e+00\n",
      "  3.92051700e+04 0.00000000e+00]\n",
      " [3.00000000e+00 2.00000000e+00 3.40000000e+01 ... 0.00000000e+00\n",
      "  4.92780300e+04 0.00000000e+00]\n",
      " [4.00000000e+00 2.00000000e+00 2.30000000e+01 ... 0.00000000e+00\n",
      "  6.73337700e+04 0.00000000e+00]\n",
      " ...\n",
      " [1.51835000e+05 2.00000000e+00 2.30000000e+01 ... 0.00000000e+00\n",
      "  7.40281500e+04 0.00000000e+00]\n",
      " [1.51836000e+05 2.00000000e+00 2.50000000e+01 ... 0.00000000e+00\n",
      "  8.42781600e+04 0.00000000e+00]\n",
      " [1.51838000e+05 2.00000000e+00 4.60000000e+01 ... 0.00000000e+00\n",
      "  1.17310979e+05 0.00000000e+00]]\n",
      "\n",
      "Dados padronizados: \n",
      "\n",
      " [[ 0.03269216 -1.07812807 -0.0563741  ... -0.01503633 -0.01631898\n",
      "  -0.47293921]\n",
      " [ 0.03269216 -0.16610367 -0.0563741  ... -0.01503633 -0.01631898\n",
      "  -0.40444655]\n",
      " [ 0.03269216 -1.07812807 -0.0563741  ... -0.01503633 -0.01631898\n",
      "  -0.28167253]\n",
      " [ 0.03269216  0.08263025 -0.0563741  ... -0.01503633 -0.01631898\n",
      "  -0.30428704]\n",
      " [ 0.03269216  0.24845287 -0.0563741  ... -0.01503633 -0.01631898\n",
      "   0.05815864]]\n"
     ]
    }
   ],
   "source": [
    "# Padronizando os dados (0 para a média, 1 para o desvio padrão)\n",
    "\n",
    "# Import dos módulos\n",
    "from pandas import read_csv\n",
    "from sklearn.preprocessing import StandardScaler\n",
    "\n",
    "#gerando nova escala\n",
    "scaler = StandardScaler().fit(x_resampled)\n",
    "standarX = scaler.transform(x_resampled)\n",
    "\n",
    "#sumarizando dados\n",
    "print('dados originais: \\n\\n', dados.values)\n",
    "print('\\nDados padronizados: \\n\\n', standarX[0:5,:])"
   ]
  },
  {
   "cell_type": "code",
   "execution_count": 29,
   "metadata": {},
   "outputs": [
    {
     "name": "stdout",
     "output_type": "stream",
     "text": [
      "Variância: [0.35152074 0.1622516  0.12609149 0.06628393 0.0556152  0.04435114\n",
      " 0.03206918 0.02357407 0.01808469 0.01217612]\n",
      "[[ 4.39854311e-04 -7.52620391e-03  3.91272852e-04 ...  7.21142321e-05\n",
      "   9.04272911e-05  1.94639201e-04]\n",
      " [ 4.04627425e-04  3.41315201e-02  2.54605898e-04 ...  4.80585353e-05\n",
      "   6.16497522e-05 -5.47725538e-05]\n",
      " [-1.38656480e-03  1.95324503e-03  1.36299986e-04 ...  3.33723145e-05\n",
      "   4.78638567e-05 -1.73550300e-04]\n",
      " ...\n",
      " [ 9.03044874e-04  4.87217123e-03  7.74695413e-04 ...  2.00541620e-05\n",
      "   4.10025579e-05  4.68555631e-04]\n",
      " [-2.20805011e-03 -1.91572218e-02  2.69401590e-04 ...  1.80156182e-04\n",
      "   1.30163341e-04 -8.47581754e-05]\n",
      " [-2.88977626e-03 -8.61473286e-03  4.68758739e-04 ...  2.85975748e-04\n",
      "   4.04299268e-04 -4.99308617e-04]]\n"
     ]
    }
   ],
   "source": [
    "\n",
    "from sklearn.decomposition import PCA\n",
    "\n",
    "# Normalizando os dados\n",
    "scaler = MinMaxScaler(feature_range = (0, 1))\n",
    "rescaledX = scaler.fit_transform(x_resampled)\n",
    "\n",
    "# Seleção de atributos\n",
    "pca = PCA(n_components = 10)\n",
    "fit = pca.fit(rescaledX)\n",
    "\n",
    "# Sumarizando os componentes\n",
    "print(\"Variância: %s\" % fit.explained_variance_ratio_)\n",
    "print(fit.components_)"
   ]
  },
  {
   "cell_type": "markdown",
   "metadata": {},
   "source": [
    "modelo resampling teste e treino"
   ]
  },
  {
   "cell_type": "code",
   "execution_count": 30,
   "metadata": {},
   "outputs": [
    {
     "name": "stdout",
     "output_type": "stream",
     "text": [
      "Acurácia nos Dados de Teste: 82.224%\n"
     ]
    }
   ],
   "source": [
    "# Avaliação usando dados de treino e de teste\n",
    "\n",
    "# Import dos módulos\n",
    "from pandas import read_csv\n",
    "from sklearn.model_selection import train_test_split\n",
    "from sklearn.linear_model import LogisticRegression\n",
    "\n",
    "# Definindo o tamanho das amostras\n",
    "teste_size = 0.33\n",
    "\n",
    "# Garante que os resultados podem ser reproduzidos\n",
    "# Isso é importante para comparar a acurácia com outros algoritmos de Machine Learning.\n",
    "seed = 7\n",
    "\n",
    "# Criando os conjuntos de dados de treino e de teste\n",
    "X_treino, X_teste, Y_treino, Y_teste = train_test_split(X_scaled, y_resampled, test_size = teste_size, random_state = seed)\n",
    "\n",
    "# Criação do modelo\n",
    "modelo = LogisticRegression()\n",
    "\n",
    "# Treinamento do modelo\n",
    "modelo.fit(X_treino, Y_treino)\n",
    "\n",
    "# Score do modelo nos dados de teste\n",
    "result = modelo.score(X_teste, Y_teste)\n",
    "print(\"Acurácia nos Dados de Teste: %.3f%%\" % (result * 100.0))"
   ]
  },
  {
   "cell_type": "code",
   "execution_count": 31,
   "metadata": {},
   "outputs": [
    {
     "name": "stdout",
     "output_type": "stream",
     "text": [
      "Acurácia Final: 82.339%\n"
     ]
    }
   ],
   "source": [
    "#modelo  LogisticRegression\n",
    "\n",
    "# Avaliação usando Cross Validation\n",
    "\n",
    "# Import dos módulos\n",
    "from pandas import read_csv\n",
    "from sklearn.model_selection import KFold\n",
    "from sklearn.model_selection import cross_val_score\n",
    "from sklearn.linear_model import LogisticRegression\n",
    "\n",
    "# Definindo os valores para os folds\n",
    "num_folds = 10\n",
    "seed = 7\n",
    "\n",
    "# Separando os dados em folds\n",
    "kfold = KFold(num_folds, True, random_state = seed)\n",
    "\n",
    "# Criando o modelo\n",
    "modelo = LogisticRegression()\n",
    "resultado = cross_val_score(modelo,X_scaled , y_resampled, cv = kfold)\n",
    "\n",
    "# Usamos a média e o desvio padrão\n",
    "print(\"Acurácia Final: %.3f%%\" % (resultado.mean() * 100.0))"
   ]
  },
  {
   "cell_type": "markdown",
   "metadata": {},
   "source": [
    "algoritimos de classificação"
   ]
  },
  {
   "cell_type": "code",
   "execution_count": 32,
   "metadata": {},
   "outputs": [
    {
     "name": "stdout",
     "output_type": "stream",
     "text": [
      "Acurácia Final: 82.780%\n"
     ]
    }
   ],
   "source": [
    "#LinearDiscriminantAnalysis\n",
    "\n",
    "# Import dos módulos\n",
    "from pandas import read_csv\n",
    "from sklearn.model_selection import KFold\n",
    "from sklearn.model_selection import cross_val_score\n",
    "from sklearn.discriminant_analysis import LinearDiscriminantAnalysis\n",
    "\n",
    "# Definindo os valores para os folds\n",
    "num_folds = 10\n",
    "seed = 7\n",
    "\n",
    "# Separando os dados em folds\n",
    "kfold = KFold(num_folds, True, random_state = seed)\n",
    "\n",
    "# Criando o modelo\n",
    "modelo = LinearDiscriminantAnalysis()\n",
    "\n",
    "#cross validation\n",
    "resultado = cross_val_score(modelo,X_scaled , y_resampled, cv = kfold)\n",
    "\n",
    "# Usamos a média e o desvio padrão\n",
    "print(\"Acurácia Final: %.3f%%\" % (resultado.mean() * 100.0))"
   ]
  },
  {
   "cell_type": "code",
   "execution_count": null,
   "metadata": {},
   "outputs": [
    {
     "name": "stdout",
     "output_type": "stream",
     "text": [
      "LR: 0.823392 (0.002818)\n",
      "LDA: 0.827802 (0.003100)\n",
      "NB: 0.543801 (0.003911)\n"
     ]
    }
   ],
   "source": [
    "# Import dos módulos\n",
    "from pandas import read_csv\n",
    "import matplotlib.pyplot as plt\n",
    "from sklearn.model_selection import KFold\n",
    "from sklearn.model_selection import cross_val_score\n",
    "from sklearn.linear_model import LogisticRegression\n",
    "from sklearn.tree import DecisionTreeClassifier\n",
    "from sklearn.neighbors import KNeighborsClassifier\n",
    "from sklearn.discriminant_analysis import LinearDiscriminantAnalysis\n",
    "from sklearn.naive_bayes import GaussianNB\n",
    "from sklearn.svm import SVC\n",
    "\n",
    "# Definindo os valores para os folds\n",
    "num_folds = 10\n",
    "seed = 7\n",
    "\n",
    "# Preparando a lista de modelos\n",
    "modelos = []\n",
    "modelos.append(('LR', LogisticRegression()))\n",
    "modelos.append(('LDA', LinearDiscriminantAnalysis()))\n",
    "modelos.append(('NB', GaussianNB()))\n",
    "modelos.append(('KNN', KNeighborsClassifier()))\n",
    "modelos.append(('CART', DecisionTreeClassifier()))\n",
    "modelos.append(('SVM', SVC()))\n",
    "\n",
    "# Avaliando cada modelo em um loop\n",
    "resultados = []\n",
    "nomes = []\n",
    "\n",
    "for nome,modelo in modelos:\n",
    "    kfold = KFold(num_folds, True, random_state = seed)\n",
    "    cv_resultado = cross_val_score(modelo,X_scaled , y_resampled, cv = kfold, scoring = 'accuracy')\n",
    "    resultados.append(cv_resultado)\n",
    "    nomes.append(nome)\n",
    "    msg = \"%s: %f (%f)\" % (nome, cv_resultado.mean(), cv_resultado.std())\n",
    "    print(msg)"
   ]
  },
  {
   "cell_type": "code",
   "execution_count": null,
   "metadata": {},
   "outputs": [],
   "source": []
  },
  {
   "cell_type": "code",
   "execution_count": null,
   "metadata": {},
   "outputs": [],
   "source": []
  }
 ],
 "metadata": {
  "kernelspec": {
   "display_name": "Python 3",
   "language": "python",
   "name": "python3"
  },
  "language_info": {
   "codemirror_mode": {
    "name": "ipython",
    "version": 3
   },
   "file_extension": ".py",
   "mimetype": "text/x-python",
   "name": "python",
   "nbconvert_exporter": "python",
   "pygments_lexer": "ipython3",
   "version": "3.7.6"
  }
 },
 "nbformat": 4,
 "nbformat_minor": 4
}
